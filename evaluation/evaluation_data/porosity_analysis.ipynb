{
 "cells": [
  {
   "cell_type": "code",
   "execution_count": 1,
   "id": "a13b668a",
   "metadata": {},
   "outputs": [
    {
     "data": {
      "text/html": [
       "<div>\n",
       "<style scoped>\n",
       "    .dataframe tbody tr th:only-of-type {\n",
       "        vertical-align: middle;\n",
       "    }\n",
       "\n",
       "    .dataframe tbody tr th {\n",
       "        vertical-align: top;\n",
       "    }\n",
       "\n",
       "    .dataframe thead th {\n",
       "        text-align: right;\n",
       "    }\n",
       "</style>\n",
       "<table border=\"1\" class=\"dataframe\">\n",
       "  <thead>\n",
       "    <tr style=\"text-align: right;\">\n",
       "      <th></th>\n",
       "      <th>24</th>\n",
       "      <th>35</th>\n",
       "      <th>50</th>\n",
       "    </tr>\n",
       "  </thead>\n",
       "  <tbody>\n",
       "    <tr>\n",
       "      <th>0</th>\n",
       "      <td>11.710039</td>\n",
       "      <td>5.496135</td>\n",
       "      <td>2.061748</td>\n",
       "    </tr>\n",
       "    <tr>\n",
       "      <th>1</th>\n",
       "      <td>11.262399</td>\n",
       "      <td>3.583504</td>\n",
       "      <td>1.290527</td>\n",
       "    </tr>\n",
       "    <tr>\n",
       "      <th>2</th>\n",
       "      <td>11.859448</td>\n",
       "      <td>2.870634</td>\n",
       "      <td>2.051373</td>\n",
       "    </tr>\n",
       "    <tr>\n",
       "      <th>3</th>\n",
       "      <td>11.825278</td>\n",
       "      <td>1.453638</td>\n",
       "      <td>1.621610</td>\n",
       "    </tr>\n",
       "    <tr>\n",
       "      <th>4</th>\n",
       "      <td>8.554436</td>\n",
       "      <td>4.200980</td>\n",
       "      <td>1.573094</td>\n",
       "    </tr>\n",
       "    <tr>\n",
       "      <th>...</th>\n",
       "      <td>...</td>\n",
       "      <td>...</td>\n",
       "      <td>...</td>\n",
       "    </tr>\n",
       "    <tr>\n",
       "      <th>938</th>\n",
       "      <td>10.392775</td>\n",
       "      <td>14.522472</td>\n",
       "      <td>NaN</td>\n",
       "    </tr>\n",
       "    <tr>\n",
       "      <th>939</th>\n",
       "      <td>8.145360</td>\n",
       "      <td>5.040043</td>\n",
       "      <td>NaN</td>\n",
       "    </tr>\n",
       "    <tr>\n",
       "      <th>940</th>\n",
       "      <td>11.151688</td>\n",
       "      <td>6.480563</td>\n",
       "      <td>NaN</td>\n",
       "    </tr>\n",
       "    <tr>\n",
       "      <th>941</th>\n",
       "      <td>7.095675</td>\n",
       "      <td>0.467487</td>\n",
       "      <td>NaN</td>\n",
       "    </tr>\n",
       "    <tr>\n",
       "      <th>942</th>\n",
       "      <td>4.335395</td>\n",
       "      <td>0.631751</td>\n",
       "      <td>NaN</td>\n",
       "    </tr>\n",
       "  </tbody>\n",
       "</table>\n",
       "<p>943 rows × 3 columns</p>\n",
       "</div>"
      ],
      "text/plain": [
       "            24         35        50\n",
       "0    11.710039   5.496135  2.061748\n",
       "1    11.262399   3.583504  1.290527\n",
       "2    11.859448   2.870634  2.051373\n",
       "3    11.825278   1.453638  1.621610\n",
       "4     8.554436   4.200980  1.573094\n",
       "..         ...        ...       ...\n",
       "938  10.392775  14.522472       NaN\n",
       "939   8.145360   5.040043       NaN\n",
       "940  11.151688   6.480563       NaN\n",
       "941   7.095675   0.467487       NaN\n",
       "942   4.335395   0.631751       NaN\n",
       "\n",
       "[943 rows x 3 columns]"
      ]
     },
     "execution_count": 1,
     "metadata": {},
     "output_type": "execute_result"
    }
   ],
   "source": [
    "import pandas as pd\n",
    "\n",
    "a = pd.read_csv('last_24.txt', encoding='utf-8', names=['24'])\n",
    "df = pd.DataFrame(a)\n",
    "b = pd.read_csv('last_35.txt', encoding='utf-8', names=['35'])\n",
    "df['35'] = b\n",
    "c = pd.read_csv('last_50.txt', encoding='utf-8', names=['50'])\n",
    "df['50'] = c\n",
    "df"
   ]
  },
  {
   "cell_type": "code",
   "execution_count": 2,
   "id": "2031a308",
   "metadata": {},
   "outputs": [],
   "source": [
    "import openpyxl\n",
    "\n",
    "# 엑셀 파일 출력\n",
    "df.to_excel('new_porosity.xlsx')"
   ]
  },
  {
   "cell_type": "code",
   "execution_count": 3,
   "id": "bef8b9e2",
   "metadata": {},
   "outputs": [],
   "source": [
    "import numpy as np\n",
    "porosity_24 = df['24'].values.tolist()\n",
    "porosity_35 = df['35'].values.tolist()\n",
    "porosity_50 = df['50'].values.tolist()\n",
    "porosity_50 = [x for x in porosity_50 if np.isnan(x) == False]"
   ]
  },
  {
   "cell_type": "code",
   "execution_count": 4,
   "id": "68a3a0f0",
   "metadata": {},
   "outputs": [
    {
     "data": {
      "text/plain": [
       "(9.273769395437768, 3.0662955065166, 1.7532320886715402)"
      ]
     },
     "execution_count": 4,
     "metadata": {},
     "output_type": "execute_result"
    }
   ],
   "source": [
    "\n",
    "\n",
    "mean_porosity_24 = np.mean(porosity_24)\n",
    "mean_porosity_35 = np.mean(porosity_35)\n",
    "mean_porosity_50 = np.mean(porosity_50)\n",
    "\n",
    "mean_porosity_24, mean_porosity_35, mean_porosity_50"
   ]
  },
  {
   "cell_type": "code",
   "execution_count": 5,
   "id": "bfe8bb67",
   "metadata": {},
   "outputs": [
    {
     "data": {
      "text/plain": [
       "(3.542250226295135, 1.8104775133898923, 1.1481592115272692)"
      ]
     },
     "execution_count": 5,
     "metadata": {},
     "output_type": "execute_result"
    }
   ],
   "source": [
    "std_porosity_24 = np.std(porosity_24)\n",
    "std_porosity_35 = np.std(porosity_35)\n",
    "std_porosity_50 = np.std(porosity_50)\n",
    "\n",
    "std_porosity_24, std_porosity_35, std_porosity_50"
   ]
  },
  {
   "cell_type": "code",
   "execution_count": 6,
   "id": "0b04ae3b",
   "metadata": {},
   "outputs": [
    {
     "data": {
      "text/plain": [
       "(9.6, 3, 1.6, 3.394112549695428, 1.7320508075688772, 1.1313708498984762)"
      ]
     },
     "execution_count": 6,
     "metadata": {},
     "output_type": "execute_result"
    }
   ],
   "source": [
    "import numpy as np\n",
    "\n",
    "E1 = 8*1.2\n",
    "E2 = 3*1\n",
    "E3 = 2*0.8\n",
    "V1 = np.sqrt(E1*1.2)\n",
    "V2 = np.sqrt(E2)\n",
    "V3 = np.sqrt(E3*0.8)\n",
    "E1, E2, E3, V1, V2, V3"
   ]
  },
  {
   "cell_type": "code",
   "execution_count": 7,
   "id": "7f57d1c0",
   "metadata": {},
   "outputs": [
    {
     "data": {
      "text/plain": [
       "(8.48848697644205, 2.2174716875509533, 0.8918176066824376)"
      ]
     },
     "execution_count": 7,
     "metadata": {},
     "output_type": "execute_result"
    }
   ],
   "source": [
    "# 표본크기(신뢰수준90%, 2%내외)\n",
    "n_24 = (1.645 * std_porosity_24)**2 / 2**2\n",
    "n_35 = (1.645 * std_porosity_35)**2 / 2**2\n",
    "n_50 = (1.645 * std_porosity_50)**2 / 2**2\n",
    "\n",
    "n_24, n_35, n_50"
   ]
  },
  {
   "cell_type": "code",
   "execution_count": 8,
   "id": "01138a39",
   "metadata": {},
   "outputs": [
    {
     "data": {
      "text/plain": [
       "(33.9539479057682, 8.869886750203813, 3.5672704267297504)"
      ]
     },
     "execution_count": 8,
     "metadata": {},
     "output_type": "execute_result"
    }
   ],
   "source": [
    "# 표본크기(신뢰수준90%, 1%내외)\n",
    "n_24 = (1.645 * std_porosity_24)**2 / 1**2\n",
    "n_35 = (1.645 * std_porosity_35)**2 / 1**2\n",
    "n_50 = (1.645 * std_porosity_50)**2 / 1**2\n",
    "\n",
    "n_24, n_35, n_50"
   ]
  },
  {
   "cell_type": "code",
   "execution_count": 9,
   "id": "b2c68555",
   "metadata": {},
   "outputs": [
    {
     "data": {
      "text/plain": [
       "(135.8157916230728, 35.47954700081525, 14.269081706919001)"
      ]
     },
     "execution_count": 9,
     "metadata": {},
     "output_type": "execute_result"
    }
   ],
   "source": [
    "# 표본크기(신뢰수준90%, 0.5%내외)\n",
    "n_24 = (1.645 * std_porosity_24)**2 / 0.5**2\n",
    "n_35 = (1.645 * std_porosity_35)**2 / 0.5**2\n",
    "n_50 = (1.645 * std_porosity_50)**2 / 0.5**2\n",
    "\n",
    "n_24, n_35, n_50"
   ]
  },
  {
   "cell_type": "code",
   "execution_count": 10,
   "id": "44e81ae7",
   "metadata": {},
   "outputs": [
    {
     "data": {
      "text/plain": [
       "(12.050654213726695, 3.1480268049614257, 1.2660660998443298)"
      ]
     },
     "execution_count": 10,
     "metadata": {},
     "output_type": "execute_result"
    }
   ],
   "source": [
    "# 표본크기(신뢰수준95%, 2%내외)\n",
    "n_24 = (1.96 * std_porosity_24)**2 / 2**2\n",
    "n_35 = (1.96 * std_porosity_35)**2 / 2**2\n",
    "n_50 = (1.96 * std_porosity_50)**2 / 2**2\n",
    "\n",
    "n_24, n_35, n_50"
   ]
  },
  {
   "cell_type": "code",
   "execution_count": 11,
   "id": "4d6ed62b",
   "metadata": {},
   "outputs": [
    {
     "data": {
      "text/plain": [
       "(48.20261685490678, 12.592107219845703, 5.064264399377319)"
      ]
     },
     "execution_count": 11,
     "metadata": {},
     "output_type": "execute_result"
    }
   ],
   "source": [
    "# 표본크기(신뢰수준95%, 1%내외)\n",
    "n_24 = (1.96 * std_porosity_24)**2 / 1**2\n",
    "n_35 = (1.96 * std_porosity_35)**2 / 1**2\n",
    "n_50 = (1.96 * std_porosity_50)**2 / 1**2\n",
    "\n",
    "n_24, n_35, n_50"
   ]
  },
  {
   "cell_type": "code",
   "execution_count": 12,
   "id": "30abceb4",
   "metadata": {},
   "outputs": [
    {
     "data": {
      "text/plain": [
       "(192.81046741962712, 50.36842887938281, 20.257057597509277)"
      ]
     },
     "execution_count": 12,
     "metadata": {},
     "output_type": "execute_result"
    }
   ],
   "source": [
    "# 표본크기(신뢰수준95%, 0.5%내외)\n",
    "n_24 = (1.96 * std_porosity_24)**2 / 0.5**2\n",
    "n_35 = (1.96 * std_porosity_35)**2 / 0.5**2\n",
    "n_50 = (1.96 * std_porosity_50)**2 / 0.5**2\n",
    "\n",
    "n_24, n_35, n_50"
   ]
  },
  {
   "cell_type": "code",
   "execution_count": 13,
   "id": "88556bc9",
   "metadata": {},
   "outputs": [
    {
     "data": {
      "text/plain": [
       "(20.799502575981773, 5.433513440662056, 2.1852378002083266)"
      ]
     },
     "execution_count": 13,
     "metadata": {},
     "output_type": "execute_result"
    }
   ],
   "source": [
    "# 표본크기(신뢰수준99%, 2%내외)\n",
    "n_24 = (2.575 * std_porosity_24)**2 / 2**2\n",
    "n_35 = (2.575 * std_porosity_35)**2 / 2**2\n",
    "n_50 = (2.575 * std_porosity_50)**2 / 2**2\n",
    "\n",
    "n_24, n_35, n_50"
   ]
  },
  {
   "cell_type": "code",
   "execution_count": 14,
   "id": "7ddb5340",
   "metadata": {},
   "outputs": [
    {
     "data": {
      "text/plain": [
       "(83.19801030392709, 21.734053762648223, 8.740951200833306)"
      ]
     },
     "execution_count": 14,
     "metadata": {},
     "output_type": "execute_result"
    }
   ],
   "source": [
    "# 표본크기(신뢰수준99%, 1%내외)\n",
    "n_24 = (2.575 * std_porosity_24)**2 / 1**2\n",
    "n_35 = (2.575 * std_porosity_35)**2 / 1**2\n",
    "n_50 = (2.575 * std_porosity_50)**2 / 1**2\n",
    "\n",
    "n_24, n_35, n_50"
   ]
  },
  {
   "cell_type": "code",
   "execution_count": 15,
   "id": "55b10281",
   "metadata": {},
   "outputs": [
    {
     "data": {
      "text/plain": [
       "(332.79204121570837, 86.93621505059289, 34.963804803333225)"
      ]
     },
     "execution_count": 15,
     "metadata": {},
     "output_type": "execute_result"
    }
   ],
   "source": [
    "# 표본크기(신뢰수준99%, 0.5%내외)\n",
    "n_24 = (2.575 * std_porosity_24)**2 / 0.5**2\n",
    "n_35 = (2.575 * std_porosity_35)**2 / 0.5**2\n",
    "n_50 = (2.575 * std_porosity_50)**2 / 0.5**2\n",
    "\n",
    "n_24, n_35, n_50"
   ]
  },
  {
   "cell_type": "code",
   "execution_count": 16,
   "id": "b96451c3",
   "metadata": {},
   "outputs": [],
   "source": [
    "from scipy.stats import gamma\n",
    "from numpy import linspace, exp\n",
    "\n",
    "x = linspace(0, 20, 101)\n",
    "\n",
    "shape = 10\n",
    "scale = .5\n",
    "loc = 0\n",
    "y = gamma(shape, loc, scale).pdf(x)"
   ]
  },
  {
   "cell_type": "code",
   "execution_count": 17,
   "id": "ac181cbb",
   "metadata": {
    "scrolled": false
   },
   "outputs": [
    {
     "name": "stderr",
     "output_type": "stream",
     "text": [
      "C:\\Users\\pc\\anaconda3\\lib\\site-packages\\seaborn\\distributions.py:2619: FutureWarning: `distplot` is a deprecated function and will be removed in a future version. Please adapt your code to use either `displot` (a figure-level function with similar flexibility) or `histplot` (an axes-level function for histograms).\n",
      "  warnings.warn(msg, FutureWarning)\n",
      "C:\\Users\\pc\\anaconda3\\lib\\site-packages\\seaborn\\distributions.py:2103: FutureWarning: The `axis` variable is no longer used and will be removed. Instead, assign variables directly to `x` or `y`.\n",
      "  warnings.warn(msg, FutureWarning)\n"
     ]
    },
    {
     "data": {
      "image/png": "[encoded data removed]",
      "text/plain": [
       "<Figure size 432x288 with 1 Axes>"
      ]
     },
     "metadata": {
      "needs_background": "light"
     },
     "output_type": "display_data"
    }
   ],
   "source": [
    "import seaborn as sns\n",
    "import matplotlib.pyplot as plt\n",
    "\n",
    "sns.distplot(porosity_24, rug=True)\n",
    "\n",
    "shape = 7\n",
    "scale = 1.4\n",
    "loc = 0\n",
    "y = gamma(shape, loc, scale).pdf(x)\n",
    "plt.plot(x, y, 'r')\n",
    "\n",
    "plt.xlabel('porosity')\n",
    "plt.xticks(np.arange(0,30,5))\n",
    "plt.yticks(np.arange(0,0.6,0.1))\n",
    "plt.show()"
   ]
  },
  {
   "cell_type": "code",
   "execution_count": 18,
   "id": "b29ff141",
   "metadata": {},
   "outputs": [
    {
     "name": "stderr",
     "output_type": "stream",
     "text": [
      "C:\\Users\\pc\\anaconda3\\lib\\site-packages\\seaborn\\distributions.py:2619: FutureWarning: `distplot` is a deprecated function and will be removed in a future version. Please adapt your code to use either `displot` (a figure-level function with similar flexibility) or `histplot` (an axes-level function for histograms).\n",
      "  warnings.warn(msg, FutureWarning)\n",
      "C:\\Users\\pc\\anaconda3\\lib\\site-packages\\seaborn\\distributions.py:2103: FutureWarning: The `axis` variable is no longer used and will be removed. Instead, assign variables directly to `x` or `y`.\n",
      "  warnings.warn(msg, FutureWarning)\n"
     ]
    },
    {
     "data": {
      "image/png": "[encoded data removed]",
      "text/plain": [
       "<Figure size 432x288 with 1 Axes>"
      ]
     },
     "metadata": {
      "needs_background": "light"
     },
     "output_type": "display_data"
    }
   ],
   "source": [
    "sns.distplot(porosity_35, rug=True)\n",
    "\n",
    "shape = 3\n",
    "scale = 1\n",
    "loc = 0\n",
    "y = gamma(shape, loc, scale).pdf(x)\n",
    "plt.plot(x, y, 'r')\n",
    "\n",
    "plt.xlabel('porosity')\n",
    "plt.xticks(np.arange(0,30,5))\n",
    "plt.yticks(np.arange(0,0.6,0.1))\n",
    "plt.show()"
   ]
  },
  {
   "cell_type": "code",
   "execution_count": 19,
   "id": "02f0a442",
   "metadata": {},
   "outputs": [
    {
     "name": "stderr",
     "output_type": "stream",
     "text": [
      "C:\\Users\\pc\\anaconda3\\lib\\site-packages\\seaborn\\distributions.py:2619: FutureWarning: `distplot` is a deprecated function and will be removed in a future version. Please adapt your code to use either `displot` (a figure-level function with similar flexibility) or `histplot` (an axes-level function for histograms).\n",
      "  warnings.warn(msg, FutureWarning)\n",
      "C:\\Users\\pc\\anaconda3\\lib\\site-packages\\seaborn\\distributions.py:2103: FutureWarning: The `axis` variable is no longer used and will be removed. Instead, assign variables directly to `x` or `y`.\n",
      "  warnings.warn(msg, FutureWarning)\n"
     ]
    },
    {
     "data": {
      "image/png": "[encoded data removed]",
      "text/plain": [
       "<Figure size 432x288 with 1 Axes>"
      ]
     },
     "metadata": {
      "needs_background": "light"
     },
     "output_type": "display_data"
    }
   ],
   "source": [
    "sns.distplot(porosity_50, rug=True)\n",
    "\n",
    "shape = 2\n",
    "scale = .9\n",
    "loc = 0\n",
    "y = gamma(shape, loc, scale).pdf(x)\n",
    "plt.plot(x, y, 'r')\n",
    "\n",
    "plt.xlabel('porosity')\n",
    "plt.xticks(np.arange(0,30,5))\n",
    "plt.yticks(np.arange(0,0.6,0.1))\n",
    "plt.show()"
   ]
  },
  {
   "cell_type": "code",
   "execution_count": 20,
   "id": "26876ea0",
   "metadata": {},
   "outputs": [
    {
     "data": {
      "text/plain": [
       "9.224716573953629"
      ]
     },
     "execution_count": 20,
     "metadata": {},
     "output_type": "execute_result"
    }
   ],
   "source": [
    "np.median(porosity_24)"
   ]
  },
  {
   "cell_type": "code",
   "execution_count": 21,
   "id": "6d4d7081",
   "metadata": {},
   "outputs": [
    {
     "data": {
      "text/plain": [
       "2.650359459221363"
      ]
     },
     "execution_count": 21,
     "metadata": {},
     "output_type": "execute_result"
    }
   ],
   "source": [
    "np.median(porosity_35)"
   ]
  },
  {
   "cell_type": "code",
   "execution_count": 22,
   "id": "89cc552d",
   "metadata": {},
   "outputs": [
    {
     "data": {
      "text/plain": [
       "1.5318340621888638"
      ]
     },
     "execution_count": 22,
     "metadata": {},
     "output_type": "execute_result"
    }
   ],
   "source": [
    "np.median(porosity_50)"
   ]
  },
  {
   "cell_type": "code",
   "execution_count": 58,
   "id": "4e5e4bff",
   "metadata": {},
   "outputs": [
    {
     "data": {
      "text/plain": [
       "ShapiroResult(statistic=0.9720989465713501, pvalue=1.7932298441297734e-12)"
      ]
     },
     "execution_count": 58,
     "metadata": {},
     "output_type": "execute_result"
    }
   ],
   "source": [
    "import scipy.stats\n",
    "\n",
    "scipy.stats.shapiro(porosity_24)"
   ]
  },
  {
   "cell_type": "code",
   "execution_count": 59,
   "id": "c9a6f0af",
   "metadata": {},
   "outputs": [
    {
     "data": {
      "text/plain": [
       "ShapiroResult(statistic=0.8823676109313965, pvalue=3.995571548629483e-26)"
      ]
     },
     "execution_count": 59,
     "metadata": {},
     "output_type": "execute_result"
    }
   ],
   "source": [
    "scipy.stats.shapiro(porosity_35)"
   ]
  },
  {
   "cell_type": "code",
   "execution_count": 60,
   "id": "c51707c8",
   "metadata": {},
   "outputs": [
    {
     "data": {
      "text/plain": [
       "ShapiroResult(statistic=0.8862766027450562, pvalue=3.230544188803046e-22)"
      ]
     },
     "execution_count": 60,
     "metadata": {},
     "output_type": "execute_result"
    }
   ],
   "source": [
    "scipy.stats.shapiro(porosity_50)"
   ]
  },
  {
   "cell_type": "code",
   "execution_count": 19,
   "id": "96798895",
   "metadata": {},
   "outputs": [
    {
     "data": {
      "text/plain": [
       "(0.2839078219323371, 0.38217563391532705)"
      ]
     },
     "execution_count": 19,
     "metadata": {},
     "output_type": "execute_result"
    }
   ],
   "source": [
    "from scipy.stats import skew, kurtosis\n",
    "\n",
    "# 왜도\n",
    "skew(porosity_24), kurtosis(porosity_24, fisher=True)"
   ]
  },
  {
   "cell_type": "code",
   "execution_count": 20,
   "id": "52a28b9b",
   "metadata": {},
   "outputs": [
    {
     "data": {
      "text/plain": [
       "(1.7026514739995466, 6.063324942283556)"
      ]
     },
     "execution_count": 20,
     "metadata": {},
     "output_type": "execute_result"
    }
   ],
   "source": [
    "skew(porosity_35), kurtosis(porosity_35, fisher=True)"
   ]
  },
  {
   "cell_type": "code",
   "execution_count": 21,
   "id": "200682d4",
   "metadata": {},
   "outputs": [
    {
     "data": {
      "text/plain": [
       "(1.2424450240983609, 1.7016285282533525)"
      ]
     },
     "execution_count": 21,
     "metadata": {},
     "output_type": "execute_result"
    }
   ],
   "source": [
    "skew(porosity_50), kurtosis(porosity_50, fisher=True)"
   ]
  },
  {
   "cell_type": "code",
   "execution_count": 40,
   "id": "0a3afc0f",
   "metadata": {},
   "outputs": [],
   "source": [
    "import scipy.stats as ss\n",
    "\n",
    "norm_porosity_24 = ss.zscore(porosity_24)\n",
    "norm_porosity_35 = ss.zscore(porosity_35)\n",
    "norm_porosity_50 = ss.zscore(porosity_50)"
   ]
  },
  {
   "cell_type": "code",
   "execution_count": null,
   "id": "95106bd7",
   "metadata": {},
   "outputs": [],
   "source": []
  }
 ],
 "metadata": {
  "kernelspec": {
   "display_name": "Python 3 (ipykernel)",
   "language": "python",
   "name": "python3"
  },
  "language_info": {
   "codemirror_mode": {
    "name": "ipython",
    "version": 3
   },
   "file_extension": ".py",
   "mimetype": "text/x-python",
   "name": "python",
   "nbconvert_exporter": "python",
   "pygments_lexer": "ipython3",
   "version": "3.9.7"
  }
 },
 "nbformat": 4,
 "nbformat_minor": 5
}
