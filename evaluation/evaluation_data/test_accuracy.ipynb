{
 "cells": [
  {
   "cell_type": "code",
   "execution_count": null,
   "id": "d74c88e3",
   "metadata": {},
   "outputs": [],
   "source": [
    "import numpy as np\n",
    "\n",
    "def Predict_model(images):\n",
    "    \n",
    "    image_datas = np.zeros((len(images), 256,256,3))\n",
    "    \n",
    "    for i in range(len(images)):\n",
    "        image_datas[i] = images[i][:,:,:3]\n",
    "        \n",
    "    preds = model.predict(image_datas)\n",
    "    \n",
    "    for i in range(len(images)):\n",
    "        preds[i] = preds[i]\n",
    "        \n",
    "    return preds"
   ]
  },
  {
   "cell_type": "code",
   "execution_count": null,
   "id": "3817aa9c",
   "metadata": {},
   "outputs": [],
   "source": [
    "import numpy as np\n",
    "\n",
    "## image, label 설정\n",
    "test_img_path = 'C:/cube_resized/86/24/'\n",
    "test_lbl_path = 'C:/test_label/86/'\n",
    "\n",
    "str_lbl = next(os.walk(test_lbl_path))[1]\n",
    "num = 40\n",
    "test_images = np.zeros((num,256,256,3))\n",
    "test_label = []\n",
    "\n",
    "for i in str_lbl:\n",
    "    labels = next(os.walk(test_lbl_path + i + '/'))[2]\n",
    "    for n, label in enumerate(labels):\n",
    "        test_images[n] = plt.imread(test_img_path + i + '/' + label)[:,:,:3]\n",
    "        test_label.append(plt.imread(test_lbl_path + i + '/' + label))\n",
    "        \n",
    "test_results = Predict_model(test_images)\n",
    "\n",
    "test_porosity = []\n",
    "for i in range(len(test_results)):\n",
    "    test_porosity.append(np.sum(test_results[i])/(255*255))\n",
    "    \n",
    "label_porosity = []\n",
    "for i in range(len(test_label)):\n",
    "    label_porosity.append(np.sum(test_label[i])/(255*255*256))\n",
    "\n",
    "    \n",
    "accuracy = []\n",
    "for i in range(label_porosity):\n",
    "    accuracy.append(test_porosity[i]/label_porosity[i])\n",
    "    \n",
    "test_accuracy = np.average(accuracy)"
   ]
  },
  {
   "cell_type": "code",
   "execution_count": null,
   "id": "3a25ae1a",
   "metadata": {},
   "outputs": [],
   "source": []
  }
 ],
 "metadata": {
  "kernelspec": {
   "display_name": "Python 3",
   "language": "python",
   "name": "python3"
  },
  "language_info": {
   "codemirror_mode": {
    "name": "ipython",
    "version": 3
   },
   "file_extension": ".py",
   "mimetype": "text/x-python",
   "name": "python",
   "nbconvert_exporter": "python",
   "pygments_lexer": "ipython3",
   "version": "3.8.8"
  }
 },
 "nbformat": 4,
 "nbformat_minor": 5
}
