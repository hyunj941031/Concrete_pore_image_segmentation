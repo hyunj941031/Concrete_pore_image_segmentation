{
 "cells": [
  {
   "cell_type": "code",
   "execution_count": 13,
   "id": "557eada3",
   "metadata": {},
   "outputs": [],
   "source": [
    "import numpy as np\n",
    "import os\n",
    "\n",
    "base_dir = \"D:/cube_labels/1300/\"\n",
    "str_path = next(os.walk(base_dir))[1]\n",
    "\n",
    "new_label = np.zeros((255,255), dtype=np.uint8)"
   ]
  },
  {
   "cell_type": "code",
   "execution_count": 15,
   "id": "c516f28c",
   "metadata": {},
   "outputs": [
    {
     "data": {
      "text/plain": [
       "['24', '35', '50']"
      ]
     },
     "execution_count": 15,
     "metadata": {},
     "output_type": "execute_result"
    }
   ],
   "source": [
    "str_path"
   ]
  },
  {
   "cell_type": "code",
   "execution_count": 21,
   "id": "92b31b32",
   "metadata": {},
   "outputs": [
    {
     "data": {
      "text/plain": [
       "'0041'"
      ]
     },
     "execution_count": 21,
     "metadata": {},
     "output_type": "execute_result"
    }
   ],
   "source": [
    "label_path = next(os.walk(base_dir + str_path[0]))[2]\n",
    "label_path[1][-8:-4]"
   ]
  },
  {
   "cell_type": "code",
   "execution_count": 29,
   "id": "0202ebb6",
   "metadata": {},
   "outputs": [],
   "source": [
    "names = []\n",
    "for i in label_path:\n",
    "    name = int(i[-8:-4])\n",
    "    if name in names:\n",
    "        continue\n",
    "    else:\n",
    "        names.append(name)\n",
    "        \n",
    "names.sort()"
   ]
  },
  {
   "cell_type": "code",
   "execution_count": 31,
   "id": "4b1e5ec0",
   "metadata": {},
   "outputs": [
    {
     "data": {
      "text/plain": [
       "[10, 20, 29, 30, 48, 60, 61, 65, 69, 72, 80]"
      ]
     },
     "execution_count": 31,
     "metadata": {},
     "output_type": "execute_result"
    }
   ],
   "source": [
    "no_anything = []\n",
    "for i in range(1, 101):\n",
    "    if i not in names:\n",
    "        no_anything.append(i)\n",
    "no_anything"
   ]
  },
  {
   "cell_type": "code",
   "execution_count": 63,
   "id": "53ae228f",
   "metadata": {},
   "outputs": [
    {
     "data": {
      "text/plain": [
       "['c0035.png',\n",
       " 'c0041.png',\n",
       " 'c0100.png',\n",
       " 'g0002.png',\n",
       " 'g0040.png',\n",
       " 'g0046.png',\n",
       " 'p0001.png',\n",
       " 'p0002.png',\n",
       " 'p0003.png',\n",
       " 'p0004.png',\n",
       " 'p0005.png',\n",
       " 'p0007.png',\n",
       " 'p0008.png',\n",
       " 'p0009.png',\n",
       " 'p0011.png',\n",
       " 'p0012.png',\n",
       " 'p0014.png',\n",
       " 'p0016.png',\n",
       " 'p0021.png',\n",
       " 'p0022.png',\n",
       " 'p0024.png',\n",
       " 'p0025.png',\n",
       " 'p0027.png',\n",
       " 'p0034.png',\n",
       " 'p0035.png',\n",
       " 'p0036.png',\n",
       " 'p0037.png',\n",
       " 'p0038.png',\n",
       " 'p0039.png',\n",
       " 'p0040.png',\n",
       " 'p0041.png',\n",
       " 'p0042.png',\n",
       " 'p0043.png',\n",
       " 'p0044.png',\n",
       " 'p0046.png',\n",
       " 'p0047.png',\n",
       " 'p0050.png',\n",
       " 'p0051.png',\n",
       " 'p0052.png',\n",
       " 'p0054.png',\n",
       " 'p0055.png',\n",
       " 'p0057.png',\n",
       " 'p0058.png',\n",
       " 'p0059.png',\n",
       " 'p0062.png',\n",
       " 'p0064.png',\n",
       " 'p0066.png',\n",
       " 'p0067.png',\n",
       " 'p0068.png',\n",
       " 'p0073.png',\n",
       " 'p0074.png',\n",
       " 'p0076.png',\n",
       " 'p0077.png',\n",
       " 'p0078.png',\n",
       " 'p0079.png',\n",
       " 'p0081.png',\n",
       " 'p0083.png',\n",
       " 'p0084.png',\n",
       " 'p0085.png',\n",
       " 'p0086.png',\n",
       " 'p0087.png',\n",
       " 'p0088.png',\n",
       " 'p0089.png',\n",
       " 'p0090.png',\n",
       " 'p0091.png',\n",
       " 'p0092.png',\n",
       " 'p0093.png',\n",
       " 'p0094.png',\n",
       " 'p0095.png',\n",
       " 'p0096.png',\n",
       " 'p0097.png',\n",
       " 'p0098.png',\n",
       " 'p0099.png',\n",
       " 's0009.png',\n",
       " 's0015.png',\n",
       " 's0018.png',\n",
       " 's0019.png',\n",
       " 's0023.png',\n",
       " 's0024.png',\n",
       " 's0025.png',\n",
       " 's0028.png',\n",
       " 's0032.png',\n",
       " 's0033.png',\n",
       " 's0034.png',\n",
       " 's0039.png',\n",
       " 's0042.png',\n",
       " 's0046.png',\n",
       " 's0049.png',\n",
       " 's0052.png',\n",
       " 's0053.png',\n",
       " 's0056.png',\n",
       " 's0063.png',\n",
       " 's0070.png',\n",
       " 's0071.png',\n",
       " 's0074.png',\n",
       " 's0077.png',\n",
       " 's0082.png',\n",
       " 's0094.png',\n",
       " 's0095.png',\n",
       " 's0100.png',\n",
       " 'sp0002.png',\n",
       " 'sp0006.png',\n",
       " 'sp0007.png',\n",
       " 'sp0009.png',\n",
       " 'sp0013.png',\n",
       " 'sp0016.png',\n",
       " 'sp0017.png',\n",
       " 'sp0025.png',\n",
       " 'sp0026.png',\n",
       " 'sp0028.png',\n",
       " 'sp0031.png',\n",
       " 'sp0045.png',\n",
       " 'sp0049.png',\n",
       " 'sp0053.png',\n",
       " 'sp0054.png',\n",
       " 'sp0063.png',\n",
       " 'sp0067.png',\n",
       " 'sp0068.png',\n",
       " 'sp0075.png',\n",
       " 'sp0092.png',\n",
       " 'sp0098.png',\n",
       " 'sp0100.png']"
      ]
     },
     "execution_count": 63,
     "metadata": {},
     "output_type": "execute_result"
    }
   ],
   "source": [
    "label_path"
   ]
  },
  {
   "cell_type": "code",
   "execution_count": 117,
   "id": "5ca02916",
   "metadata": {},
   "outputs": [],
   "source": [
    "from PIL import Image\n",
    "from skimage.transform import resize\n",
    "\n",
    "label_path = next(os.walk(base_dir + str_path[0]))[2]\n",
    "new_label_24 = np.zeros((101, 256,256), dtype=np.uint8)\n",
    "for label in label_path:\n",
    "    img = Image.open(base_dir + '24/' + label).convert('L')\n",
    "    img = np.array(img, dtype='uint8')\n",
    "    name = int(label[-8:-4])\n",
    "    for i in range(256):\n",
    "        for j in range(256):\n",
    "            if new_label_24[name][i][j] != 0:\n",
    "                continue\n",
    "            else:\n",
    "                if (label[0] == 'c') and (img[i][j] > 0):\n",
    "                    new_label_24[name][i][j] = 1\n",
    "                elif ((label[0] == 'p') or (label[1] == 'p')) and (img[i][j] > 0):\n",
    "                    new_label_24[name][i][j] = 2\n",
    "                elif (label[0] == 'g') and (img[i][j] > 0):\n",
    "                    new_label_24[name][i][j] = 3\n",
    "                elif (label[0] == 's') and (img[i][j] > 0):\n",
    "                    new_label_24[name][i][j] = 4"
   ]
  },
  {
   "cell_type": "code",
   "execution_count": 119,
   "id": "5ba448e1",
   "metadata": {},
   "outputs": [],
   "source": [
    "from PIL import Image\n",
    "from skimage.transform import resize\n",
    "\n",
    "label_path = next(os.walk(base_dir + str_path[1]))[2]\n",
    "new_label_35 = np.zeros((101, 256,256), dtype=np.uint8)\n",
    "for label in label_path:\n",
    "    img = Image.open(base_dir + '35/'+ label).convert('L')\n",
    "    img = np.array(img, dtype='uint8')\n",
    "    name = int(label[-8:-4])\n",
    "    for i in range(256):\n",
    "        for j in range(256):\n",
    "            if new_label_35[name][i][j] != 0:\n",
    "                continue\n",
    "            else:\n",
    "                if (label[0] == 'c') and (img[i][j] > 0):\n",
    "                    new_label_35[name][i][j] = 1\n",
    "                elif ((label[0] == 'p') or (label[1] == 'p')) and (img[i][j] > 0):\n",
    "                    new_label_35[name][i][j] = 2\n",
    "                elif (label[0] == 'g') and (img[i][j] > 0):\n",
    "                    new_label_35[name][i][j] = 3\n",
    "                elif (label[0] == 's') and (img[i][j] > 0):\n",
    "                    new_label_35[name][i][j] = 4"
   ]
  },
  {
   "cell_type": "code",
   "execution_count": 120,
   "id": "c7e356b7",
   "metadata": {},
   "outputs": [],
   "source": [
    "from PIL import Image\n",
    "from skimage.transform import resize\n",
    "\n",
    "label_path = next(os.walk(base_dir + str_path[2]))[2]\n",
    "new_label_50 = np.zeros((101, 256,256), dtype=np.uint8)\n",
    "for label in label_path:\n",
    "    img = Image.open(base_dir + '50/'+ label).convert('L')\n",
    "    img = np.array(img, dtype='uint8')\n",
    "    name = int(label[-8:-4])\n",
    "    for i in range(256):\n",
    "        for j in range(256):\n",
    "            if new_label_50[name][i][j] != 0:\n",
    "                continue\n",
    "            else:\n",
    "                if (label[0] == 'c') and (img[i][j] > 0):\n",
    "                    new_label_50[name][i][j] = 1\n",
    "                elif ((label[0] == 'p') or (label[1] == 'p')) and (img[i][j] > 0):\n",
    "                    new_label_50[name][i][j] = 2\n",
    "                elif (label[0] == 'g') and (img[i][j] > 0):\n",
    "                    new_label_50[name][i][j] = 3\n",
    "                elif (label[0] == 's') and (img[i][j] > 0):\n",
    "                    new_label_50[name][i][j] = 4"
   ]
  },
  {
   "cell_type": "code",
   "execution_count": 126,
   "id": "f8295399",
   "metadata": {},
   "outputs": [
    {
     "data": {
      "text/plain": [
       "<matplotlib.image.AxesImage at 0x212a5d73970>"
      ]
     },
     "execution_count": 126,
     "metadata": {},
     "output_type": "execute_result"
    },
    {
     "data": {
      "image/png": "[encoded data removed]",
      "text/plain": [
       "<Figure size 432x288 with 1 Axes>"
      ]
     },
     "metadata": {
      "needs_background": "light"
     },
     "output_type": "display_data"
    }
   ],
   "source": [
    "plt.imshow(new_label_50[10])"
   ]
  },
  {
   "cell_type": "code",
   "execution_count": 128,
   "id": "7942e19a",
   "metadata": {},
   "outputs": [],
   "source": [
    "for i in range(1, 101):\n",
    "    name = str(i).zfill(4)\n",
    "    img = Image.fromarray(new_label_24[i])\n",
    "    img.save('D:/merged_label/1300/24/{}.jpg'.format(name))"
   ]
  },
  {
   "cell_type": "code",
   "execution_count": 129,
   "id": "ac51d3f8",
   "metadata": {},
   "outputs": [],
   "source": [
    "for i in range(1, 101):\n",
    "    name = str(i).zfill(4)\n",
    "    img = Image.fromarray(new_label_35[i])\n",
    "    img.save('D:/merged_label/1300/35/{}.jpg'.format(name))"
   ]
  },
  {
   "cell_type": "code",
   "execution_count": 130,
   "id": "caa607a7",
   "metadata": {},
   "outputs": [],
   "source": [
    "for i in range(1, 101):\n",
    "    name = str(i).zfill(4)\n",
    "    img = Image.fromarray(new_label_50[i])\n",
    "    img.save('D:/merged_label/1300/50/{}.jpg'.format(name))"
   ]
  },
  {
   "cell_type": "code",
   "execution_count": null,
   "id": "137d8f51",
   "metadata": {},
   "outputs": [],
   "source": []
  }
 ],
 "metadata": {
  "kernelspec": {
   "display_name": "Python 3",
   "language": "python",
   "name": "python3"
  },
  "language_info": {
   "codemirror_mode": {
    "name": "ipython",
    "version": 3
   },
   "file_extension": ".py",
   "mimetype": "text/x-python",
   "name": "python",
   "nbconvert_exporter": "python",
   "pygments_lexer": "ipython3",
   "version": "3.8.8"
  }
 },
 "nbformat": 4,
 "nbformat_minor": 5
}
