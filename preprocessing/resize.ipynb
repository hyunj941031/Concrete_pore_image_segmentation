{
 "cells": [
  {
   "cell_type": "code",
   "execution_count": 2,
   "id": "e6cae8f6",
   "metadata": {},
   "outputs": [],
   "source": [
    "import os\n",
    "from tqdm import tqdm\n",
    "from PIL import Image\n",
    "from skimage.transform import resize\n",
    "\n",
    "import math\n",
    "import random\n",
    "\n",
    "import numpy as np\n",
    "import pandas as pd\n",
    "import matplotlib.pyplot as plt\n",
    "\n",
    "from tensorflow import keras\n",
    "\n",
    "import pickle"
   ]
  },
  {
   "cell_type": "code",
   "execution_count": 3,
   "id": "9d435937",
   "metadata": {},
   "outputs": [
    {
     "name": "stderr",
     "output_type": "stream",
     "text": [
      "100%|██████████| 59/59 [00:13<00:00,  4.42it/s]\n"
     ]
    }
   ],
   "source": [
    "dir_path = 'D:/new_cube_label_3000_4000/86/24/'\n",
    "resized_dir_path = 'D:/new_cube_resized_label/86/24/'\n",
    "\n",
    "mix_paths = next(os.walk(dir_path))[2]\n",
    "\n",
    "for n, mix in tqdm(enumerate(mix_paths), total=len(mix_paths)):\n",
    "    image_path = dir_path + mix\n",
    "    resized_image_path = resized_dir_path + mix\n",
    "    \n",
    "    if not os.path.exists(resized_image_path):\n",
    "        img = Image.open(image_path)\n",
    "        img = img.resize((256,256))\n",
    "        img.save(resized_image_path)"
   ]
  },
  {
   "cell_type": "code",
   "execution_count": 4,
   "id": "acfd41b0",
   "metadata": {},
   "outputs": [
    {
     "name": "stderr",
     "output_type": "stream",
     "text": [
      "100%|██████████| 40/40 [00:08<00:00,  4.47it/s]\n"
     ]
    }
   ],
   "source": [
    "dir_path = 'D:/new_cube_label_3000_4000/86/35/'\n",
    "resized_dir_path = 'D:/new_cube_resized_label/86/35/'\n",
    "\n",
    "mix_paths = next(os.walk(dir_path))[2]\n",
    "\n",
    "for n, mix in tqdm(enumerate(mix_paths), total=len(mix_paths)):\n",
    "    image_path = dir_path + mix\n",
    "    resized_image_path = resized_dir_path + mix\n",
    "    \n",
    "    if not os.path.exists(resized_image_path):\n",
    "        img = Image.open(image_path)\n",
    "        img = img.resize((256,256))\n",
    "        img.save(resized_image_path)"
   ]
  },
  {
   "cell_type": "code",
   "execution_count": 5,
   "id": "e6cba959",
   "metadata": {},
   "outputs": [
    {
     "name": "stderr",
     "output_type": "stream",
     "text": [
      "100%|██████████| 40/40 [00:09<00:00,  4.12it/s]\n"
     ]
    }
   ],
   "source": [
    "dir_path = 'D:/new_cube_label_3000_4000/86/50/'\n",
    "resized_dir_path = 'D:/new_cube_resized_label/86/50/'\n",
    "\n",
    "mix_paths = next(os.walk(dir_path))[2]\n",
    "\n",
    "for n, mix in tqdm(enumerate(mix_paths), total=len(mix_paths)):\n",
    "    image_path = dir_path + mix\n",
    "    resized_image_path = resized_dir_path + mix\n",
    "    \n",
    "    if not os.path.exists(resized_image_path):\n",
    "        img = Image.open(image_path)\n",
    "        img = img.resize((256,256))\n",
    "        img.save(resized_image_path)"
   ]
  },
  {
   "cell_type": "code",
   "execution_count": 5,
   "id": "bd924f10",
   "metadata": {},
   "outputs": [
    {
     "name": "stderr",
     "output_type": "stream",
     "text": [
      "100%|██████████| 40/40 [00:00<00:00, 86.60it/s] \n"
     ]
    }
   ],
   "source": [
    "dir_path = 'D:/cube_temp_resized/label86/24/'\n",
    "resized_dir_path = 'D:/cube_labels/86/24/'\n",
    "\n",
    "mix_paths = next(os.walk(dir_path))[2]\n",
    "\n",
    "for n, mix in tqdm(enumerate(mix_paths), total=len(mix_paths)):\n",
    "    image_path = dir_path + mix\n",
    "    resized_image_path = resized_dir_path + mix\n",
    "    \n",
    "    if not os.path.exists(resized_image_path):\n",
    "        img = Image.open(image_path)\n",
    "        img = img.resize((256,256))\n",
    "        img.save(resized_image_path)"
   ]
  },
  {
   "cell_type": "code",
   "execution_count": 6,
   "id": "d73ca8d0",
   "metadata": {},
   "outputs": [
    {
     "name": "stderr",
     "output_type": "stream",
     "text": [
      "100%|██████████| 40/40 [00:00<00:00, 118.88it/s]\n"
     ]
    }
   ],
   "source": [
    "dir_path = 'D:/cube_temp_resized/label86/35/'\n",
    "resized_dir_path = 'D:/cube_labels/86/35/'\n",
    "\n",
    "mix_paths = next(os.walk(dir_path))[2]\n",
    "\n",
    "for n, mix in tqdm(enumerate(mix_paths), total=len(mix_paths)):\n",
    "    image_path = dir_path + mix\n",
    "    resized_image_path = resized_dir_path + mix\n",
    "    \n",
    "    if not os.path.exists(resized_image_path):\n",
    "        img = Image.open(image_path)\n",
    "        img = img.resize((256,256))\n",
    "        img.save(resized_image_path)"
   ]
  },
  {
   "cell_type": "code",
   "execution_count": 7,
   "id": "f5b10576",
   "metadata": {},
   "outputs": [
    {
     "name": "stderr",
     "output_type": "stream",
     "text": [
      "100%|██████████| 40/40 [00:00<00:00, 85.60it/s] \n"
     ]
    }
   ],
   "source": [
    "dir_path = 'D:/cube_temp_resized/label86/50/'\n",
    "resized_dir_path = 'D:/cube_labels/86/50/'\n",
    "\n",
    "mix_paths = next(os.walk(dir_path))[2]\n",
    "\n",
    "for n, mix in tqdm(enumerate(mix_paths), total=len(mix_paths)):\n",
    "    image_path = dir_path + mix\n",
    "    resized_image_path = resized_dir_path + mix\n",
    "    \n",
    "    if not os.path.exists(resized_image_path):\n",
    "        img = Image.open(image_path)\n",
    "        img = img.resize((256,256))\n",
    "        img.save(resized_image_path)"
   ]
  },
  {
   "cell_type": "code",
   "execution_count": null,
   "id": "9cc8f19f",
   "metadata": {},
   "outputs": [],
   "source": []
  }
 ],
 "metadata": {
  "kernelspec": {
   "display_name": "Python 3",
   "language": "python",
   "name": "python3"
  },
  "language_info": {
   "codemirror_mode": {
    "name": "ipython",
    "version": 3
   },
   "file_extension": ".py",
   "mimetype": "text/x-python",
   "name": "python",
   "nbconvert_exporter": "python",
   "pygments_lexer": "ipython3",
   "version": "3.8.8"
  }
 },
 "nbformat": 4,
 "nbformat_minor": 5
}
